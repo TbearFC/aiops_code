{
 "cells": [
  {
   "cell_type": "code",
   "execution_count": 3,
   "metadata": {},
   "outputs": [],
   "source": [
    "import pandas as pd"
   ]
  },
  {
   "cell_type": "markdown",
   "metadata": {},
   "source": [
    "# 读入日志数据"
   ]
  },
  {
   "cell_type": "code",
   "execution_count": 4,
   "metadata": {},
   "outputs": [],
   "source": [
    "path=\"../data/demo_data/log/log.csv\"\n",
    "log_data=pd.read_csv(path)"
   ]
  },
  {
   "cell_type": "code",
   "execution_count": 7,
   "metadata": {},
   "outputs": [
    {
     "data": {
      "text/plain": [
       "0       081109 203807 222 INFO dfs.DataNode$PacketResp...\n",
       "1       081109 204005 35 INFO dfs.FSNamesystem: BLOCK*...\n",
       "2       081109 204015 308 INFO dfs.DataNode$PacketResp...\n",
       "3       081109 204106 329 INFO dfs.DataNode$PacketResp...\n",
       "4       081109 204132 26 INFO dfs.FSNamesystem: BLOCK*...\n",
       "                              ...                        \n",
       "1994    081111 101621 24902 INFO dfs.DataNode$DataXcei...\n",
       "1995    081111 101735 26595 INFO dfs.DataNode$PacketRe...\n",
       "1996    081111 101804 26494 INFO dfs.DataNode$DataXcei...\n",
       "1997    081111 101954 26414 INFO dfs.DataNode$PacketRe...\n",
       "1998    081111 102017 26347 INFO dfs.DataNode$DataXcei...\n",
       "Name: log_content, Length: 1999, dtype: object"
      ]
     },
     "execution_count": 7,
     "metadata": {},
     "output_type": "execute_result"
    }
   ],
   "source": [
    "log_data[\"log_content\"]"
   ]
  },
  {
   "cell_type": "markdown",
   "metadata": {},
   "source": [
    "# 提取日志模版"
   ]
  },
  {
   "cell_type": "code",
   "execution_count": 14,
   "metadata": {},
   "outputs": [
    {
     "ename": "ImportError",
     "evalue": "cannot import name 'Drain' from 'logparser' (/usr/local/lib/python3.7/site-packages/logparser/__init__.py)",
     "output_type": "error",
     "traceback": [
      "\u001b[0;31m---------------------------------------------------------------------------\u001b[0m",
      "\u001b[0;31mImportError\u001b[0m                               Traceback (most recent call last)",
      "\u001b[0;32m<ipython-input-14-f45653813bf3>\u001b[0m in \u001b[0;36m<module>\u001b[0;34m\u001b[0m\n\u001b[0;32m----> 1\u001b[0;31m \u001b[0;32mfrom\u001b[0m  \u001b[0mlogparser\u001b[0m \u001b[0;32mimport\u001b[0m \u001b[0mDrain\u001b[0m\u001b[0;34m\u001b[0m\u001b[0;34m\u001b[0m\u001b[0m\n\u001b[0m",
      "\u001b[0;31mImportError\u001b[0m: cannot import name 'Drain' from 'logparser' (/usr/local/lib/python3.7/site-packages/logparser/__init__.py)"
     ]
    }
   ],
   "source": [
    "from  logparser import Drain\n"
   ]
  },
  {
   "cell_type": "code",
   "execution_count": 10,
   "metadata": {},
   "outputs": [
    {
     "name": "stdout",
     "output_type": "stream",
     "text": [
      "Collecting logparser\n",
      "  Downloading https://files.pythonhosted.org/packages/d6/7e/528828509144799c08e903e0f49cbc037cec4128286eaafa19e312263651/logparser-0.8.2-py3-none-any.whl\n",
      "Requirement already satisfied: six>=1.12.0 in /usr/local/lib/python3.7/site-packages (from logparser) (1.12.0)\n",
      "Requirement already satisfied: pexpect>=4.7.0 in /usr/local/lib/python3.7/site-packages (from logparser) (4.7.0)\n",
      "Requirement already satisfied: ptyprocess>=0.5 in /usr/local/lib/python3.7/site-packages (from pexpect>=4.7.0->logparser) (0.6.0)\n",
      "Installing collected packages: logparser\n",
      "Successfully installed logparser-0.8.2\n"
     ]
    }
   ],
   "source": [
    "!pip3 install logparser"
   ]
  },
  {
   "cell_type": "code",
   "execution_count": 16,
   "metadata": {},
   "outputs": [],
   "source": [
    "from gensim.models.fasttext import FastText\n"
   ]
  },
  {
   "cell_type": "code",
   "execution_count": 27,
   "metadata": {},
   "outputs": [
    {
     "ename": "NotImplementedError",
     "evalue": "Supervised fastText models are not supported",
     "output_type": "error",
     "traceback": [
      "\u001b[0;31m---------------------------------------------------------------------------\u001b[0m",
      "\u001b[0;31mNotImplementedError\u001b[0m                       Traceback (most recent call last)",
      "\u001b[0;32m<ipython-input-27-3f2c5419b954>\u001b[0m in \u001b[0;36m<module>\u001b[0;34m\u001b[0m\n\u001b[1;32m      1\u001b[0m \u001b[0;32mfrom\u001b[0m \u001b[0mgensim\u001b[0m\u001b[0;34m.\u001b[0m\u001b[0mmodels\u001b[0m \u001b[0;32mimport\u001b[0m \u001b[0mfasttext\u001b[0m\u001b[0;34m\u001b[0m\u001b[0;34m\u001b[0m\u001b[0m\n\u001b[0;32m----> 2\u001b[0;31m \u001b[0mmodel\u001b[0m\u001b[0;34m=\u001b[0m\u001b[0mfasttext\u001b[0m\u001b[0;34m.\u001b[0m\u001b[0mload_facebook_model\u001b[0m\u001b[0;34m(\u001b[0m\u001b[0;34m\"/Users/bear/gensim-data/word2vec-google-news-300/word2vec-google-news-300.gz\"\u001b[0m\u001b[0;34m)\u001b[0m\u001b[0;34m\u001b[0m\u001b[0;34m\u001b[0m\u001b[0m\n\u001b[0m",
      "\u001b[0;32m/usr/local/lib/python3.7/site-packages/gensim/models/fasttext.py\u001b[0m in \u001b[0;36mload_facebook_model\u001b[0;34m(path, encoding)\u001b[0m\n\u001b[1;32m   1248\u001b[0m \u001b[0;34m\u001b[0m\u001b[0m\n\u001b[1;32m   1249\u001b[0m     \"\"\"\n\u001b[0;32m-> 1250\u001b[0;31m     \u001b[0;32mreturn\u001b[0m \u001b[0m_load_fasttext_format\u001b[0m\u001b[0;34m(\u001b[0m\u001b[0mpath\u001b[0m\u001b[0;34m,\u001b[0m \u001b[0mencoding\u001b[0m\u001b[0;34m=\u001b[0m\u001b[0mencoding\u001b[0m\u001b[0;34m,\u001b[0m \u001b[0mfull_model\u001b[0m\u001b[0;34m=\u001b[0m\u001b[0;32mTrue\u001b[0m\u001b[0;34m)\u001b[0m\u001b[0;34m\u001b[0m\u001b[0;34m\u001b[0m\u001b[0m\n\u001b[0m\u001b[1;32m   1251\u001b[0m \u001b[0;34m\u001b[0m\u001b[0m\n\u001b[1;32m   1252\u001b[0m \u001b[0;34m\u001b[0m\u001b[0m\n",
      "\u001b[0;32m/usr/local/lib/python3.7/site-packages/gensim/models/fasttext.py\u001b[0m in \u001b[0;36m_load_fasttext_format\u001b[0;34m(model_file, encoding, full_model)\u001b[0m\n\u001b[1;32m   1328\u001b[0m     \"\"\"\n\u001b[1;32m   1329\u001b[0m     \u001b[0;32mwith\u001b[0m \u001b[0mutils\u001b[0m\u001b[0;34m.\u001b[0m\u001b[0mopen\u001b[0m\u001b[0;34m(\u001b[0m\u001b[0mmodel_file\u001b[0m\u001b[0;34m,\u001b[0m \u001b[0;34m'rb'\u001b[0m\u001b[0;34m)\u001b[0m \u001b[0;32mas\u001b[0m \u001b[0mfin\u001b[0m\u001b[0;34m:\u001b[0m\u001b[0;34m\u001b[0m\u001b[0;34m\u001b[0m\u001b[0m\n\u001b[0;32m-> 1330\u001b[0;31m         \u001b[0mm\u001b[0m \u001b[0;34m=\u001b[0m \u001b[0mgensim\u001b[0m\u001b[0;34m.\u001b[0m\u001b[0mmodels\u001b[0m\u001b[0;34m.\u001b[0m\u001b[0m_fasttext_bin\u001b[0m\u001b[0;34m.\u001b[0m\u001b[0mload\u001b[0m\u001b[0;34m(\u001b[0m\u001b[0mfin\u001b[0m\u001b[0;34m,\u001b[0m \u001b[0mencoding\u001b[0m\u001b[0;34m=\u001b[0m\u001b[0mencoding\u001b[0m\u001b[0;34m,\u001b[0m \u001b[0mfull_model\u001b[0m\u001b[0;34m=\u001b[0m\u001b[0mfull_model\u001b[0m\u001b[0;34m)\u001b[0m\u001b[0;34m\u001b[0m\u001b[0;34m\u001b[0m\u001b[0m\n\u001b[0m\u001b[1;32m   1331\u001b[0m \u001b[0;34m\u001b[0m\u001b[0m\n\u001b[1;32m   1332\u001b[0m     model = FastText(\n",
      "\u001b[0;32m/usr/local/lib/python3.7/site-packages/gensim/models/_fasttext_bin.py\u001b[0m in \u001b[0;36mload\u001b[0;34m(fin, encoding, full_model)\u001b[0m\n\u001b[1;32m    319\u001b[0m         \u001b[0mmodel\u001b[0m\u001b[0;34m.\u001b[0m\u001b[0mupdate\u001b[0m\u001b[0;34m(\u001b[0m\u001b[0mdim\u001b[0m\u001b[0;34m=\u001b[0m\u001b[0mmagic\u001b[0m\u001b[0;34m,\u001b[0m \u001b[0mws\u001b[0m\u001b[0;34m=\u001b[0m\u001b[0mversion\u001b[0m\u001b[0;34m)\u001b[0m\u001b[0;34m\u001b[0m\u001b[0;34m\u001b[0m\u001b[0m\n\u001b[1;32m    320\u001b[0m \u001b[0;34m\u001b[0m\u001b[0m\n\u001b[0;32m--> 321\u001b[0;31m     \u001b[0mraw_vocab\u001b[0m\u001b[0;34m,\u001b[0m \u001b[0mvocab_size\u001b[0m\u001b[0;34m,\u001b[0m \u001b[0mnwords\u001b[0m \u001b[0;34m=\u001b[0m \u001b[0m_load_vocab\u001b[0m\u001b[0;34m(\u001b[0m\u001b[0mfin\u001b[0m\u001b[0;34m,\u001b[0m \u001b[0mnew_format\u001b[0m\u001b[0;34m,\u001b[0m \u001b[0mencoding\u001b[0m\u001b[0;34m=\u001b[0m\u001b[0mencoding\u001b[0m\u001b[0;34m)\u001b[0m\u001b[0;34m\u001b[0m\u001b[0;34m\u001b[0m\u001b[0m\n\u001b[0m\u001b[1;32m    322\u001b[0m     \u001b[0mmodel\u001b[0m\u001b[0;34m.\u001b[0m\u001b[0mupdate\u001b[0m\u001b[0;34m(\u001b[0m\u001b[0mraw_vocab\u001b[0m\u001b[0;34m=\u001b[0m\u001b[0mraw_vocab\u001b[0m\u001b[0;34m,\u001b[0m \u001b[0mvocab_size\u001b[0m\u001b[0;34m=\u001b[0m\u001b[0mvocab_size\u001b[0m\u001b[0;34m,\u001b[0m \u001b[0mnwords\u001b[0m\u001b[0;34m=\u001b[0m\u001b[0mnwords\u001b[0m\u001b[0;34m)\u001b[0m\u001b[0;34m\u001b[0m\u001b[0;34m\u001b[0m\u001b[0m\n\u001b[1;32m    323\u001b[0m \u001b[0;34m\u001b[0m\u001b[0m\n",
      "\u001b[0;32m/usr/local/lib/python3.7/site-packages/gensim/models/_fasttext_bin.py\u001b[0m in \u001b[0;36m_load_vocab\u001b[0;34m(fin, new_format, encoding)\u001b[0m\n\u001b[1;32m    174\u001b[0m     \u001b[0;31m# Vocab stored by [Dictionary::save](https://github.com/facebookresearch/fastText/blob/master/src/dictionary.cc)\u001b[0m\u001b[0;34m\u001b[0m\u001b[0;34m\u001b[0m\u001b[0;34m\u001b[0m\u001b[0m\n\u001b[1;32m    175\u001b[0m     \u001b[0;32mif\u001b[0m \u001b[0mnlabels\u001b[0m \u001b[0;34m>\u001b[0m \u001b[0;36m0\u001b[0m\u001b[0;34m:\u001b[0m\u001b[0;34m\u001b[0m\u001b[0;34m\u001b[0m\u001b[0m\n\u001b[0;32m--> 176\u001b[0;31m         \u001b[0;32mraise\u001b[0m \u001b[0mNotImplementedError\u001b[0m\u001b[0;34m(\u001b[0m\u001b[0;34m\"Supervised fastText models are not supported\"\u001b[0m\u001b[0;34m)\u001b[0m\u001b[0;34m\u001b[0m\u001b[0;34m\u001b[0m\u001b[0m\n\u001b[0m\u001b[1;32m    177\u001b[0m     \u001b[0mlogger\u001b[0m\u001b[0;34m.\u001b[0m\u001b[0minfo\u001b[0m\u001b[0;34m(\u001b[0m\u001b[0;34m\"loading %s words for fastText model from %s\"\u001b[0m\u001b[0;34m,\u001b[0m \u001b[0mvocab_size\u001b[0m\u001b[0;34m,\u001b[0m \u001b[0mfin\u001b[0m\u001b[0;34m.\u001b[0m\u001b[0mname\u001b[0m\u001b[0;34m)\u001b[0m\u001b[0;34m\u001b[0m\u001b[0;34m\u001b[0m\u001b[0m\n\u001b[1;32m    178\u001b[0m \u001b[0;34m\u001b[0m\u001b[0m\n",
      "\u001b[0;31mNotImplementedError\u001b[0m: Supervised fastText models are not supported"
     ]
    }
   ],
   "source": [
    "from gensim.models import fasttext \n",
    "model=fasttext.load_facebook_model(\"/Users/bear/gensim-data/word2vec-google-news-300/word2vec-google-news-300.gz\")"
   ]
  },
  {
   "cell_type": "code",
   "execution_count": null,
   "metadata": {},
   "outputs": [],
   "source": []
  },
  {
   "cell_type": "code",
   "execution_count": 25,
   "metadata": {},
   "outputs": [
    {
     "name": "stdout",
     "output_type": "stream",
     "text": [
      "Help on function load_facebook_model in module gensim.models.fasttext:\n",
      "\n",
      "load_facebook_model(path, encoding='utf-8')\n",
      "    Load the input-hidden weight matrix from Facebook's native fasttext `.bin` output file.\n",
      "    \n",
      "    Notes\n",
      "    ------\n",
      "    Facebook provides both `.vec` and `.bin` files with their modules.\n",
      "    The former contains human-readable vectors.\n",
      "    The latter contains machine-readable vectors along with other model parameters.\n",
      "    This function requires you to **provide the full path to the .bin file**.\n",
      "    It effectively ignores the `.vec` output file, since it is redundant.\n",
      "    \n",
      "    This function uses the smart_open library to open the path.\n",
      "    The path may be on a remote host (e.g. HTTP, S3, etc).\n",
      "    It may also be gzip or bz2 compressed (i.e. end in `.bin.gz` or `.bin.bz2`).\n",
      "    For details, see `<https://github.com/RaRe-Technologies/smart_open>`__.\n",
      "    \n",
      "    Parameters\n",
      "    ----------\n",
      "    model_file : str\n",
      "        Path to the FastText output files.\n",
      "        FastText outputs two model files - `/path/to/model.vec` and `/path/to/model.bin`\n",
      "        Expected value for this example: `/path/to/model` or `/path/to/model.bin`,\n",
      "        as Gensim requires only `.bin` file to the load entire fastText model.\n",
      "    encoding : str, optional\n",
      "        Specifies the file encoding.\n",
      "    \n",
      "    Examples\n",
      "    --------\n",
      "    \n",
      "    Load, infer, continue training:\n",
      "    \n",
      "    .. sourcecode:: pycon\n",
      "    \n",
      "        >>> from gensim.test.utils import datapath\n",
      "        >>>\n",
      "        >>> cap_path = datapath(\"crime-and-punishment.bin\")\n",
      "        >>> fb_model = load_facebook_model(cap_path)\n",
      "        >>>\n",
      "        >>> 'landlord' in fb_model.wv.vocab  # Word is out of vocabulary\n",
      "        False\n",
      "        >>> oov_term = fb_model.wv['landlord']\n",
      "        >>>\n",
      "        >>> 'landlady' in fb_model.wv.vocab  # Word is in the vocabulary\n",
      "        True\n",
      "        >>> iv_term = fb_model.wv['landlady']\n",
      "        >>>\n",
      "        >>> new_sent = [['lord', 'of', 'the', 'rings'], ['lord', 'of', 'the', 'flies']]\n",
      "        >>> fb_model.build_vocab(new_sent, update=True)\n",
      "        >>> fb_model.train(sentences=new_sent, total_examples=len(new_sent), epochs=5)\n",
      "    \n",
      "    Returns\n",
      "    -------\n",
      "    gensim.models.fasttext.FastText\n",
      "        The loaded model.\n",
      "    \n",
      "    See Also\n",
      "    --------\n",
      "    :func:`~gensim.models.fasttext.load_facebook_vectors` loads\n",
      "    the word embeddings only.  Its faster, but does not enable you to continue\n",
      "    training.\n",
      "\n"
     ]
    }
   ],
   "source": [
    "help(fasttext.load_facebook_model)"
   ]
  },
  {
   "cell_type": "code",
   "execution_count": null,
   "metadata": {},
   "outputs": [],
   "source": []
  }
 ],
 "metadata": {
  "kernelspec": {
   "display_name": "Python 3",
   "language": "python",
   "name": "python3"
  },
  "language_info": {
   "codemirror_mode": {
    "name": "ipython",
    "version": 3
   },
   "file_extension": ".py",
   "mimetype": "text/x-python",
   "name": "python",
   "nbconvert_exporter": "python",
   "pygments_lexer": "ipython3",
   "version": "3.7.4"
  }
 },
 "nbformat": 4,
 "nbformat_minor": 4
}
