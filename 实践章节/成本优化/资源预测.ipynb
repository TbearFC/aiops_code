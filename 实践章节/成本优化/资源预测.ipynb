{
 "cells": [
  {
   "cell_type": "code",
   "execution_count": null,
   "metadata": {},
   "outputs": [],
   "source": [
    "import pandas as pd\n",
    "import matplotlib.pyplot as plt\n",
    "\n",
    "def parser(x):\n",
    "\treturn pd.datetime.strptime('190'+x, '%Y-%m')\n",
    " \n",
    "series = pd.read_csv(\"../data/demo_data/metric/arima_ts_example.csv\", header=0, parse_dates=[0], index_col=0, squeeze=True, date_parser=parser)\n",
    "print(series.head())\n",
    "series.plot()\n",
    "plt.show()"
   ]
  },
  {
   "cell_type": "code",
   "execution_count": null,
   "metadata": {},
   "outputs": [],
   "source": [
    "from pandas.plotting import autocorrelation_plot\n",
    "autocorrelation_plot(series)\n",
    "pyplot.show()"
   ]
  },
  {
   "cell_type": "code",
   "execution_count": null,
   "metadata": {},
   "outputs": [],
   "source": [
    "# fit an ARIMA model and plot residual errors\n",
    "from pandas import datetime\n",
    "from pandas import DataFrame\n",
    "from statsmodels.tsa.arima_model import ARIMA\n",
    "from matplotlib import pyplot\n",
    "# fit model\n",
    "model = ARIMA(series, order=(5,1,0))\n",
    "model_fit = model.fit(disp=0)\n",
    "# summary of fit model\n",
    "print(model_fit.summary())\n",
    "# line plot of residuals\n",
    "residuals = DataFrame(model_fit.resid)\n",
    "residuals.plot()\n",
    "pyplot.show()\n",
    "# density plot of residuals\n",
    "residuals.plot(kind='kde')\n",
    "pyplot.show()\n",
    "# summary stats of residuals\n",
    "print(residuals.describe())\n"
   ]
  },
  {
   "cell_type": "code",
   "execution_count": null,
   "metadata": {},
   "outputs": [],
   "source": [
    "# evaluate an ARIMA model using a walk-forward validation\n",
    "from pandas import read_csv\n",
    "from pandas import datetime\n",
    "from matplotlib import pyplot\n",
    "from statsmodels.tsa.arima.model import ARIMA\n",
    "from sklearn.metrics import mean_squared_error\n",
    "from math import sqrt\n",
    "# load dataset\n",
    "def parser(x):\n",
    "\treturn datetime.strptime('190'+x, '%Y-%m')\n",
    "series.index = series.index.to_period('M')\n",
    "# split into train and test sets\n",
    "X = series.values\n",
    "size = int(len(X) * 0.66)\n",
    "train, test = X[0:size], X[size:len(X)]\n",
    "history = [x for x in train]\n",
    "predictions = list()\n",
    "\n",
    "# one time predict\n",
    "one_time_model = ARIMA(history, order=(5,1,0))\n",
    "one_time_model_fit = one_time_model.fit()\n",
    "one_time_output = one_time_model_fit.forecast(12)\n",
    "one_time_predictions = one_time_output\n",
    "\n",
    "# walk-forward validation\n",
    "for t in range(len(test)):\n",
    "\tmodel = ARIMA(history, order=(5,1,0))\n",
    "\tmodel_fit = model.fit()\n",
    "\toutput = model_fit.forecast()\n",
    "\tyhat = output[0]\n",
    "\tpredictions.append(yhat)\n",
    "\tobs = test[t]\n",
    "\thistory.append(obs)\n",
    "\tprint('predicted=%f, expected=%f' % (yhat, obs))\n",
    "# evaluate forecasts\n",
    "rmse = sqrt(mean_squared_error(test, predictions))\n",
    "print('Test RMSE: %.3f' % rmse)\n",
    "# plot forecasts against actual outcomes\n",
    "pyplot.plot(test,color=\"blue\")\n",
    "pyplot.plot(predictions, color='red')\n",
    "pyplot.plot(one_time_predictions, color='green')\n",
    "pyplot.show()\n"
   ]
  },
  {
   "cell_type": "markdown",
   "metadata": {},
   "source": [
    "## 基于grid search的搜索"
   ]
  },
  {
   "cell_type": "code",
   "execution_count": null,
   "metadata": {},
   "outputs": [],
   "source": [
    "# evaluate an ARIMA model for a given order (p,d,q) \n",
    "def evaluate_arima_model(X, arima_order):\n",
    "    # prepare training dataset \n",
    "    train_size = int(len(X) * 0.66) \n",
    "    train, test = X[0:train_size], X[train_size:] \n",
    "    history = [x for x in train] # make predictions \n",
    "    predictions = list() \n",
    "    for t in range(len(test)):\n",
    "        model = ARIMA(history, order=arima_order)\n",
    "        model_fit = model.fit()\n",
    "        yhat = model_fit.forecast()[0]\n",
    "        predictions.append(yhat)\n",
    "        history.append(test[t]) # calculate out-of-sample error \n",
    "    rmse = sqrt(mean_squared_error(test, predictions)) \n",
    "    return rmse"
   ]
  },
  {
   "cell_type": "code",
   "execution_count": null,
   "metadata": {},
   "outputs": [],
   "source": [
    "# evaluate combinations of p, d and q values for an ARIMA model \n",
    "def evaluate_models(dataset, p_values, d_values, q_values):\n",
    "    dataset = dataset.astype('float32') \n",
    "    best_score, best_cfg = float(\"inf\"), None \n",
    "    for p in p_values:\n",
    "        for d in d_values:\n",
    "            for q in q_values:\n",
    "                order = (p,d,q) \n",
    "                try:\n",
    "                    rmse = evaluate_arima_model(dataset, order) \n",
    "                    if rmse < best_score:\n",
    "                        best_score, best_cfg = rmse, order \n",
    "                    print('ARIMA%s RMSE=%.3f' % (order,rmse)) \n",
    "                except Exception as e:\n",
    "                    print(e)\n",
    "                    continue \n",
    "    print('Best ARIMA%s RMSE=%.3f' % (best_cfg, best_score))"
   ]
  },
  {
   "cell_type": "code",
   "execution_count": null,
   "metadata": {},
   "outputs": [],
   "source": [
    "import warnings \n",
    "warnings.filterwarnings(\"ignore\")"
   ]
  },
  {
   "cell_type": "code",
   "execution_count": null,
   "metadata": {},
   "outputs": [],
   "source": [
    "# evaluate parameters \n",
    "p_values = [0, 1, 2, 4, 6, 8, 10] \n",
    "d_values = range(0, 3) \n",
    "q_values = range(0, 3) \n",
    "warnings.filterwarnings(\"ignore\") \n",
    "evaluate_models(series.values, p_values, d_values, q_values)"
   ]
  },
  {
   "cell_type": "markdown",
   "metadata": {},
   "source": [
    "## prophet"
   ]
  },
  {
   "cell_type": "code",
   "execution_count": 33,
   "metadata": {},
   "outputs": [],
   "source": [
    "import pandas as pd\n",
    "import datetime \n",
    "import numpy as np\n",
    "import matplotlib.pyplot as plt\n",
    "# 读入数据\n",
    "df=pd.read_csv(\"../data/demo_data/metric/art_daily_jumpsup.csv\")\n",
    "df=df[[\"timestamp\",\"value\"]]\n",
    "# 提取一段时间序列\n",
    "ts=df.iloc[:300,:]\n",
    "# 拆分训练集和测试集\n",
    "train_ts=ts.iloc[:250,:]\n",
    "test_ts=ts.iloc[250:,:]"
   ]
  },
  {
   "cell_type": "code",
   "execution_count": 39,
   "metadata": {},
   "outputs": [
    {
     "data": {
      "text/html": [
       "<div>\n",
       "<style scoped>\n",
       "    .dataframe tbody tr th:only-of-type {\n",
       "        vertical-align: middle;\n",
       "    }\n",
       "\n",
       "    .dataframe tbody tr th {\n",
       "        vertical-align: top;\n",
       "    }\n",
       "\n",
       "    .dataframe thead th {\n",
       "        text-align: right;\n",
       "    }\n",
       "</style>\n",
       "<table border=\"1\" class=\"dataframe\">\n",
       "  <thead>\n",
       "    <tr style=\"text-align: right;\">\n",
       "      <th></th>\n",
       "      <th>timestamp</th>\n",
       "      <th>value</th>\n",
       "    </tr>\n",
       "  </thead>\n",
       "  <tbody>\n",
       "    <tr>\n",
       "      <th>0</th>\n",
       "      <td>2014-04-01 00:00:00</td>\n",
       "      <td>19.761252</td>\n",
       "    </tr>\n",
       "    <tr>\n",
       "      <th>1</th>\n",
       "      <td>2014-04-01 00:05:00</td>\n",
       "      <td>20.500833</td>\n",
       "    </tr>\n",
       "    <tr>\n",
       "      <th>2</th>\n",
       "      <td>2014-04-01 00:10:00</td>\n",
       "      <td>19.961641</td>\n",
       "    </tr>\n",
       "    <tr>\n",
       "      <th>3</th>\n",
       "      <td>2014-04-01 00:15:00</td>\n",
       "      <td>21.490266</td>\n",
       "    </tr>\n",
       "    <tr>\n",
       "      <th>4</th>\n",
       "      <td>2014-04-01 00:20:00</td>\n",
       "      <td>20.187739</td>\n",
       "    </tr>\n",
       "    <tr>\n",
       "      <th>...</th>\n",
       "      <td>...</td>\n",
       "      <td>...</td>\n",
       "    </tr>\n",
       "    <tr>\n",
       "      <th>295</th>\n",
       "      <td>2014-04-02 00:35:00</td>\n",
       "      <td>19.756282</td>\n",
       "    </tr>\n",
       "    <tr>\n",
       "      <th>296</th>\n",
       "      <td>2014-04-02 00:40:00</td>\n",
       "      <td>21.801342</td>\n",
       "    </tr>\n",
       "    <tr>\n",
       "      <th>297</th>\n",
       "      <td>2014-04-02 00:45:00</td>\n",
       "      <td>20.893160</td>\n",
       "    </tr>\n",
       "    <tr>\n",
       "      <th>298</th>\n",
       "      <td>2014-04-02 00:50:00</td>\n",
       "      <td>18.282673</td>\n",
       "    </tr>\n",
       "    <tr>\n",
       "      <th>299</th>\n",
       "      <td>2014-04-02 00:55:00</td>\n",
       "      <td>20.727132</td>\n",
       "    </tr>\n",
       "  </tbody>\n",
       "</table>\n",
       "<p>300 rows × 2 columns</p>\n",
       "</div>"
      ],
      "text/plain": [
       "               timestamp      value\n",
       "0    2014-04-01 00:00:00  19.761252\n",
       "1    2014-04-01 00:05:00  20.500833\n",
       "2    2014-04-01 00:10:00  19.961641\n",
       "3    2014-04-01 00:15:00  21.490266\n",
       "4    2014-04-01 00:20:00  20.187739\n",
       "..                   ...        ...\n",
       "295  2014-04-02 00:35:00  19.756282\n",
       "296  2014-04-02 00:40:00  21.801342\n",
       "297  2014-04-02 00:45:00  20.893160\n",
       "298  2014-04-02 00:50:00  18.282673\n",
       "299  2014-04-02 00:55:00  20.727132\n",
       "\n",
       "[300 rows x 2 columns]"
      ]
     },
     "execution_count": 39,
     "metadata": {},
     "output_type": "execute_result"
    }
   ],
   "source": [
    "ts"
   ]
  },
  {
   "cell_type": "code",
   "execution_count": 34,
   "metadata": {},
   "outputs": [],
   "source": [
    "from prophet import Prophet\n",
    "train_ts=train_ts.rename(columns={\"timestamp\":\"ds\",\"value\":\"y\"})\n",
    "train_ts[\"ds\"]=pd.to_datetime(train_ts[\"ds\"])\n"
   ]
  },
  {
   "cell_type": "code",
   "execution_count": 43,
   "metadata": {},
   "outputs": [
    {
     "name": "stderr",
     "output_type": "stream",
     "text": [
      "INFO:prophet:Disabling yearly seasonality. Run prophet with yearly_seasonality=True to override this.\n",
      "INFO:prophet:Disabling weekly seasonality. Run prophet with weekly_seasonality=True to override this.\n",
      "INFO:prophet:Disabling daily seasonality. Run prophet with daily_seasonality=True to override this.\n"
     ]
    },
    {
     "name": "stdout",
     "output_type": "stream",
     "text": [
      "Initial log joint probability = -27.0988\n",
      "    Iter      log prob        ||dx||      ||grad||       alpha      alpha0  # evals  Notes \n",
      "      78       246.808    0.00447327       82.9032   5.977e-05       0.001      132  LS failed, Hessian reset \n",
      "      99       247.734    0.00820346       70.1896      0.9855      0.9855      156   \n",
      "    Iter      log prob        ||dx||      ||grad||       alpha      alpha0  # evals  Notes \n",
      "     199       249.246   0.000466001       54.2656           1           1      279   \n",
      "    Iter      log prob        ||dx||      ||grad||       alpha      alpha0  # evals  Notes \n",
      "     233       249.482   5.60491e-05         51.79   9.436e-07       0.001      375  LS failed, Hessian reset \n",
      "     296       249.776   7.77512e-05       53.7726   1.504e-06       0.001      491  LS failed, Hessian reset \n",
      "     299       249.778   4.42878e-05       47.8621      0.3623           1      495   \n",
      "    Iter      log prob        ||dx||      ||grad||       alpha      alpha0  # evals  Notes \n",
      "     344       249.779    2.0939e-07       48.1615   3.251e-09       0.001      613  LS failed, Hessian reset \n",
      "     351       249.779   5.65973e-09       50.8036     0.02745           1      626   \n",
      "Optimization terminated normally: \n",
      "  Convergence detected: absolute parameter change was below tolerance\n"
     ]
    }
   ],
   "source": [
    "m = Prophet()\n",
    "m.fit(train_ts)\n",
    "future = m.make_future_dataframe(periods=50,freq=\"5min\")\n",
    "forecast = m.predict(future)\n",
    "fig1 = m.plot(forecast)"
   ]
  },
  {
   "cell_type": "code",
   "execution_count": 44,
   "metadata": {},
   "outputs": [
    {
     "data": {
      "text/html": [
       "<div>\n",
       "<style scoped>\n",
       "    .dataframe tbody tr th:only-of-type {\n",
       "        vertical-align: middle;\n",
       "    }\n",
       "\n",
       "    .dataframe tbody tr th {\n",
       "        vertical-align: top;\n",
       "    }\n",
       "\n",
       "    .dataframe thead th {\n",
       "        text-align: right;\n",
       "    }\n",
       "</style>\n",
       "<table border=\"1\" class=\"dataframe\">\n",
       "  <thead>\n",
       "    <tr style=\"text-align: right;\">\n",
       "      <th></th>\n",
       "      <th>ds</th>\n",
       "      <th>yhat</th>\n",
       "      <th>yhat_lower</th>\n",
       "      <th>yhat_upper</th>\n",
       "    </tr>\n",
       "  </thead>\n",
       "  <tbody>\n",
       "    <tr>\n",
       "      <th>295</th>\n",
       "      <td>2014-04-02 00:35:00</td>\n",
       "      <td>-14.872047</td>\n",
       "      <td>-31.982261</td>\n",
       "      <td>3.000587</td>\n",
       "    </tr>\n",
       "    <tr>\n",
       "      <th>296</th>\n",
       "      <td>2014-04-02 00:40:00</td>\n",
       "      <td>-15.725888</td>\n",
       "      <td>-33.436177</td>\n",
       "      <td>1.690737</td>\n",
       "    </tr>\n",
       "    <tr>\n",
       "      <th>297</th>\n",
       "      <td>2014-04-02 00:45:00</td>\n",
       "      <td>-16.579729</td>\n",
       "      <td>-34.944479</td>\n",
       "      <td>3.723410</td>\n",
       "    </tr>\n",
       "    <tr>\n",
       "      <th>298</th>\n",
       "      <td>2014-04-02 00:50:00</td>\n",
       "      <td>-17.433570</td>\n",
       "      <td>-36.816170</td>\n",
       "      <td>1.277023</td>\n",
       "    </tr>\n",
       "    <tr>\n",
       "      <th>299</th>\n",
       "      <td>2014-04-02 00:55:00</td>\n",
       "      <td>-18.287411</td>\n",
       "      <td>-37.509157</td>\n",
       "      <td>1.257987</td>\n",
       "    </tr>\n",
       "  </tbody>\n",
       "</table>\n",
       "</div>"
      ],
      "text/plain": [
       "                     ds       yhat  yhat_lower  yhat_upper\n",
       "295 2014-04-02 00:35:00 -14.872047  -31.982261    3.000587\n",
       "296 2014-04-02 00:40:00 -15.725888  -33.436177    1.690737\n",
       "297 2014-04-02 00:45:00 -16.579729  -34.944479    3.723410\n",
       "298 2014-04-02 00:50:00 -17.433570  -36.816170    1.277023\n",
       "299 2014-04-02 00:55:00 -18.287411  -37.509157    1.257987"
      ]
     },
     "execution_count": 44,
     "metadata": {},
     "output_type": "execute_result"
    }
   ],
   "source": []
  },
  {
   "cell_type": "code",
   "execution_count": 45,
   "metadata": {},
   "outputs": [
    {
     "data": {
      "image/png": "[encoded data removed]",
      "text/plain": [
       "<Figure size 720x432 with 1 Axes>"
      ]
     },
     "metadata": {},
     "output_type": "display_data"
    }
   ],
   "source": []
  },
  {
   "cell_type": "code",
   "execution_count": null,
   "metadata": {},
   "outputs": [],
   "source": []
  }
 ],
 "metadata": {
  "kernelspec": {
   "display_name": "Python38",
   "language": "python",
   "name": "python38"
  },
  "language_info": {
   "codemirror_mode": {
    "name": "ipython",
    "version": 3
   },
   "file_extension": ".py",
   "mimetype": "text/x-python",
   "name": "python",
   "nbconvert_exporter": "python",
   "pygments_lexer": "ipython3",
   "version": "3.8.5"
  }
 },
 "nbformat": 4,
 "nbformat_minor": 4
}
