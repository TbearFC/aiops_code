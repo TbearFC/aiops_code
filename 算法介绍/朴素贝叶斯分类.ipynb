{
 "cells": [
  {
   "cell_type": "code",
   "execution_count": 25,
   "metadata": {},
   "outputs": [
    {
     "name": "stdout",
     "output_type": "stream",
     "text": [
      "分类的总数为 45，分类正确的点数为 : 35，分类正确比:0.7777777777777778\n"
     ]
    }
   ],
   "source": [
    "from sklearn import datasets\n",
    "from sklearn.naive_bayes import GaussianNB\n",
    "\n",
    "\n",
    "# 读取示例数据\n",
    "iris = datasets.load_iris()\n",
    "X_data=iris.data\n",
    "Y_data=iris.target\n",
    "\n",
    "# 训练集和测试集分割\n",
    "cut_point_index=int(0.7*len(iris.data))\n",
    "train_x=X_data[:cut_point_index]\n",
    "train_y=Y_data[:cut_point_index]\n",
    "test_x=X_data[cut_point_index:]\n",
    "test_y=Y_data[cut_point_index:]\n",
    "\n",
    "# 训练模型\n",
    "model = GaussianNB()\n",
    "model.fit(train_x, train_y)\n",
    "\n",
    "# 预测并评估\n",
    "predict_y=model.predict(test_x)\n",
    "right_classif=0\n",
    "for i in range(len(test_y)):\n",
    "    if predict_y[i]==test_y[i]:\n",
    "        right_classif=right_classif+1\n",
    "\n",
    "print(\"分类的总数为 {}，分类正确的点数为 : {}，分类正确比:{}\".format(len(test_y),right_classif,right_classif/len(test_y)))\n"
   ]
  },
  {
   "cell_type": "code",
   "execution_count": null,
   "metadata": {},
   "outputs": [],
   "source": []
  }
 ],
 "metadata": {
  "kernelspec": {
   "display_name": "Python 3",
   "language": "python",
   "name": "python3"
  },
  "language_info": {
   "codemirror_mode": {
    "name": "ipython",
    "version": 3
   },
   "file_extension": ".py",
   "mimetype": "text/x-python",
   "name": "python",
   "nbconvert_exporter": "python",
   "pygments_lexer": "ipython3",
   "version": "3.7.4"
  }
 },
 "nbformat": 4,
 "nbformat_minor": 4
}
