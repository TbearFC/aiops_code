{
 "cells": [
  {
   "cell_type": "code",
   "execution_count": 2,
   "metadata": {},
   "outputs": [
    {
     "name": "stdout",
     "output_type": "stream",
     "text": [
      "分类的总数为 45，分类正确的点数为 : 33，分类正确比:0.7333333333333333\n"
     ]
    }
   ],
   "source": [
    "from sklearn.datasets import load_iris\n",
    "from sklearn.ensemble import AdaBoostClassifier\n",
    "from sklearn.tree import DecisionTreeClassifier\n",
    "from sklearn import datasets\n",
    "\n",
    "\n",
    "# 读取示例数据\n",
    "iris = datasets.load_iris()\n",
    "X_data=iris.data\n",
    "Y_data=iris.target\n",
    "\n",
    "# 训练集和测试集分割\n",
    "cut_point_index=int(0.7*len(iris.data))\n",
    "train_x=X_data[:cut_point_index]\n",
    "train_y=Y_data[:cut_point_index]\n",
    "test_x=X_data[cut_point_index:]\n",
    "test_y=Y_data[cut_point_index:]\n",
    "\n",
    "# 训练模型\n",
    "model = AdaBoostClassifier(DecisionTreeClassifier(max_depth=2, min_samples_split=20, min_samples_leaf=5),\n",
    "                         algorithm=\"SAMME\",\n",
    "                         n_estimators=200, learning_rate=0.8)\n",
    "model.fit(train_x, train_y)\n",
    "\n",
    "# 预测并评估\n",
    "predict_y=model.predict(test_x)\n",
    "right_classif=0\n",
    "for i in range(len(test_y)):\n",
    "    if predict_y[i]==test_y[i]:\n",
    "        right_classif=right_classif+1\n",
    "\n",
    "print(\"分类的总数为 {}，分类正确的点数为 : {}，分类正确比:{}\".format(len(test_y),right_classif,right_classif/len(test_y)))"
   ]
  },
  {
   "cell_type": "code",
   "execution_count": null,
   "metadata": {},
   "outputs": [],
   "source": []
  }
 ],
 "metadata": {
  "kernelspec": {
   "display_name": "Python 3",
   "language": "python",
   "name": "python3"
  },
  "language_info": {
   "codemirror_mode": {
    "name": "ipython",
    "version": 3
   },
   "file_extension": ".py",
   "mimetype": "text/x-python",
   "name": "python",
   "nbconvert_exporter": "python",
   "pygments_lexer": "ipython3",
   "version": "3.7.4"
  }
 },
 "nbformat": 4,
 "nbformat_minor": 4
}
