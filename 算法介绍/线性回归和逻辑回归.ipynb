{
 "cells": [
  {
   "cell_type": "code",
   "execution_count": 53,
   "metadata": {},
   "outputs": [
    {
     "data": {
      "text/plain": [
       "[<matplotlib.lines.Line2D at 0x12c3ec1d0>]"
      ]
     },
     "execution_count": 53,
     "metadata": {},
     "output_type": "execute_result"
    },
    {
     "data": {
      "image/png": "[encoded data removed]",
      "text/plain": [
       "<Figure size 432x288 with 1 Axes>"
      ]
     },
     "metadata": {
      "needs_background": "light"
     },
     "output_type": "display_data"
    }
   ],
   "source": [
    "# 使用sklearn实现线性回归\n",
    "import pandas as pd\n",
    "import matplotlib.pyplot as plt\n",
    "from sklearn.linear_model import LinearRegression\n",
    "\n",
    "# 数据读取\n",
    "data_path=path=\"/Users/bear/PycharmProjects/aiops_code/实践章节/data/demo_data/metric/arima_ts_example.csv\"\n",
    "metric_data_df=pd.read_csv(data_path)\n",
    "X_data=[[i] for i in list(metric_data_df.index)]\n",
    "Y_data=metric_data_df[\"Sales\"].values\n",
    "\n",
    "# 分割训练集和测试集\n",
    "cut_point_index=int(0.7*len(X_data))\n",
    "train_x=X_data[:cut_point_index]\n",
    "train_y=Y_data[:cut_point_index]\n",
    "test_x=X_data[cut_point_index:]\n",
    "test_y=Y_data[cut_point_index:]\n",
    "\n",
    "# 模型训练\n",
    "model = LinearRegression() \n",
    "model.fit(train_x,train_y)\n",
    "\n",
    "#预测与可视化\n",
    "plt.plot(model.predict([[i] for i in range(36)]),\"r\")\n",
    "plt.plot(metric_data_df[\"Sales\"].values,\"b\")"
   ]
  },
  {
   "cell_type": "code",
   "execution_count": 58,
   "metadata": {},
   "outputs": [
    {
     "name": "stdout",
     "output_type": "stream",
     "text": [
      "分类的总数为 45，分类正确的点数为 : 19，分类正确比:0.4222222222222222\n"
     ]
    }
   ],
   "source": [
    "# 使用sklearn实现逻辑回归\n",
    "import pandas as pd\n",
    "import matplotlib.pyplot as plt\n",
    "from sklearn.linear_model import LogisticRegression\n",
    "from sklearn import datasets\n",
    "\n",
    "\n",
    "# 数据读取\n",
    "iris = datasets.load_iris()\n",
    "X_data=iris.data\n",
    "Y_data=iris.target\n",
    "\n",
    "# 分割训练集和测试集\n",
    "cut_point_index=int(0.7*len(X_data))\n",
    "train_x=X_data[:cut_point_index]\n",
    "train_y=Y_data[:cut_point_index]\n",
    "test_x=X_data[cut_point_index:]\n",
    "test_y=Y_data[cut_point_index:]\n",
    "\n",
    "# 模型训练\n",
    "model = LogisticRegression() \n",
    "model.fit(train_x,train_y)\n",
    "\n",
    "\n",
    "# 预测并评估\n",
    "predict_y=model.predict(test_x)\n",
    "right_classif=0\n",
    "for i in range(len(test_y)):\n",
    "    if predict_y[i]==test_y[i]:\n",
    "        right_classif=right_classif+1\n",
    "\n",
    "#预测与可视化\n",
    "predict_y=model.predict(test_x)\n",
    "print(\"分类的总数为 {}，分类正确的点数为 : {}，分类正确比:{}\".format(len(test_y),right_classif,right_classif/len(test_y)))"
   ]
  },
  {
   "cell_type": "code",
   "execution_count": 56,
   "metadata": {},
   "outputs": [
    {
     "data": {
      "text/plain": [
       "array([2, 1, 2, 1, 2, 1, 1, 1, 1, 1, 1, 1, 2, 2, 1, 2, 1, 2, 1, 2, 2, 1,\n",
       "       1, 2, 1, 2, 2, 2, 1, 1, 2, 2, 1, 1, 1, 2, 1, 1, 2, 2, 1, 1, 1, 2,\n",
       "       1])"
      ]
     },
     "execution_count": 56,
     "metadata": {},
     "output_type": "execute_result"
    }
   ],
   "source": [
    "predict_y"
   ]
  },
  {
   "cell_type": "code",
   "execution_count": 40,
   "metadata": {},
   "outputs": [],
   "source": [
    "from sklearn import datasets\n",
    "from sklearn.naive_bayes import GaussianNB\n",
    "\n",
    "# 读取示例数据\n",
    "iris = datasets.load_iris()\n",
    "X_data=iris.data\n",
    "Y_data=iris.target\n",
    "\n",
    "# 训练集和测试集分割\n",
    "cut_point_index=int(0.7*len(iris.data))\n",
    "train_x=X_data[:cut_point_index]\n",
    "train_y=Y_data[:cut_point_index]\n",
    "text_x=X_data[cut_point_index:]\n",
    "text_y=Y_data[cut_point_index:]\n",
    "\n",
    "# 训练模型\n",
    "model = GaussianNB()\n",
    "model.fit(train_x, train_y)\n",
    "\n",
    "# 预测并评估\n",
    "predict_y=model.predict(text_x)\n",
    "right_classif=0\n",
    "for i in range(len(text_y)):\n",
    "    if predict_y[i]==text_y[i]:\n",
    "        right_classif=right_classif+1\n",
    "\n",
    "print(\"分类的总数为 {}，分类正确的点数为 : {}，分类正确比:{}\".format(len(text_y),right_classif,right_classif/len(text_y)))\n",
    "\n"
   ]
  }
 ],
 "metadata": {
  "kernelspec": {
   "display_name": "Python 3",
   "language": "python",
   "name": "python3"
  },
  "language_info": {
   "codemirror_mode": {
    "name": "ipython",
    "version": 3
   },
   "file_extension": ".py",
   "mimetype": "text/x-python",
   "name": "python",
   "nbconvert_exporter": "python",
   "pygments_lexer": "ipython3",
   "version": "3.7.4"
  }
 },
 "nbformat": 4,
 "nbformat_minor": 4
}
