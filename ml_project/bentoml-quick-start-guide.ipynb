{
 "cells": [
  {
   "cell_type": "markdown",
   "metadata": {},
   "source": [
    "# Getting Started with BentoML\n",
    "\n",
    "[BentoML](http://bentoml.ai) is an open-source framework for machine learning **model serving**, aiming to **bridge the gap between Data Science and DevOps**.\n",
    "\n",
    "Data Scientists can easily package their models trained with any ML framework using BentoMl and reproduce the model for serving in production. BentoML helps with managing packaged models in the BentoML format, and allows DevOps to deploy them as online API serving endpoints or offline batch inference jobs, on any cloud platform.\n",
    "\n",
    "This getting started guide demonstrates how to use BentoML to serve a sklearn modeld via a REST API server, and then containerize the model server for production deployment.\n",
    "\n",
    "![Impression](https://www.google-analytics.com/collect?v=1&tid=UA-112879361-3&cid=555&t=event&ec=guides&ea=bentoml-quick-start-guide&dt=bentoml-quick-start-guide)\n",
    "\n",
    "BentoML requires python 3.6 or above, install dependencies via `pip`:"
   ]
  },
  {
   "cell_type": "code",
   "execution_count": null,
   "metadata": {},
   "outputs": [],
   "source": [
    "# Install PyPI packages required in this guide, including BentoML\n",
    "!pip install -q --pre bentoml  # install preview version of BentoML for this guide\n",
    "!pip install -q 'scikit-learn>=0.23.2' 'pandas>=1.1.1'"
   ]
  },
  {
   "cell_type": "markdown",
   "metadata": {},
   "source": [
    "Before started, let's discuss how BentoML's project structure would look like. For most use-cases, users can follow this minimal scaffold\n",
    "for deploying with BentoML to avoid any potential errors (example project structure can be found under [guides/quick-start](https://github.com/bentoml/BentoML/tree/master/guides/quick-start)):\n",
    "\n",
    "    bento_deploy/\n",
    "    ├── bento_packer.py        # responsible for packing BentoService\n",
    "    ├── bento_service.py       # BentoService definition\n",
    "    ├── model.py               # DL Model definitions\n",
    "    ├── train.py               # training scripts\n",
    "    └── requirements.txt\n",
    "\n",
    "Let's prepare a trained model for serving with BentoML. Train a classifier model on the [Iris data set](https://en.wikipedia.org/wiki/Iris_flower_data_set):"
   ]
  },
  {
   "cell_type": "code",
   "execution_count": 1,
   "metadata": {},
   "outputs": [
    {
     "data": {
      "text/plain": [
       "SVC()"
      ]
     },
     "execution_count": 1,
     "metadata": {},
     "output_type": "execute_result"
    }
   ],
   "source": [
    "from sklearn import svm\n",
    "from sklearn import datasets\n",
    "\n",
    "# Load training data\n",
    "iris = datasets.load_iris()\n",
    "X, y = iris.data, iris.target\n",
    "\n",
    "# Model Training\n",
    "clf = svm.SVC(gamma='scale')\n",
    "clf.fit(X, y)"
   ]
  },
  {
   "cell_type": "markdown",
   "metadata": {},
   "source": [
    "## Create a Prediction Service with BentoML\n",
    "\n",
    "Model serving with BentoML comes after a model is trained. The first step is creating a\n",
    "prediction service class, which defines the models required and the inference APIs which\n",
    "contains the serving logic. Here is a minimal prediction service created for serving\n",
    "the iris classifier model trained above:"
   ]
  },
  {
   "cell_type": "code",
   "execution_count": 2,
   "metadata": {},
   "outputs": [
    {
     "name": "stdout",
     "output_type": "stream",
     "text": [
      "Overwriting bento_service.py\n"
     ]
    }
   ],
   "source": [
    "%%writefile bento_service.py\n",
    "import pandas as pd\n",
    "\n",
    "from bentoml import env, artifacts, api, BentoService\n",
    "from bentoml.adapters import DataframeInput\n",
    "from bentoml.frameworks.sklearn import SklearnModelArtifact\n",
    "\n",
    "@env(infer_pip_packages=True)\n",
    "@artifacts([SklearnModelArtifact('model')])\n",
    "class IrisClassifier(BentoService):\n",
    "    \"\"\"\n",
    "    A minimum prediction service exposing a Scikit-learn model\n",
    "    \"\"\"\n",
    "\n",
    "    @api(input=DataframeInput(), batch=True)\n",
    "    def predict(self, df: pd.DataFrame):\n",
    "        \"\"\"\n",
    "        An inference API named `predict` with Dataframe input adapter, which codifies\n",
    "        how HTTP requests or CSV files are converted to a pandas Dataframe object as the\n",
    "        inference API function input\n",
    "        \"\"\"\n",
    "        return self.artifacts.model.predict(df)"
   ]
  },
  {
   "cell_type": "markdown",
   "metadata": {},
   "source": [
    "This code defines a prediction service that packages a scikit-learn model and provides\n",
    "an inference API that expects a `pandas.Dataframe` object as its input. BentoML also supports other API input \n",
    "data types including `JsonInput`, `ImageInput`, `FileInput` and \n",
    "[more](https://docs.bentoml.org/en/latest/api/adapters.html).\n",
    "\n",
    "\n",
    "In BentoML, **all inference APIs are suppose to accept a list of inputs and return a \n",
    "list of results**. In the case of `DataframeInput`, each row of the dataframe is mapping\n",
    "to one prediction request received from the client. BentoML will convert HTTP JSON \n",
    "requests into :code:`pandas.DataFrame` object before passing it to the user-defined \n",
    "inference API function.\n",
    " \n",
    "This design allows BentoML to group API requests into small batches while serving online\n",
    "traffic. Comparing to a regular flask or FastAPI based model server, this can increases\n",
    "the overall throughput of the API server by 10-100x depending on the workload.\n",
    "\n",
    "The following code packages the trained model with the prediction service class\n",
    "`IrisClassifier` defined above, and then saves the IrisClassifier instance to disk \n",
    "in the BentoML format for distribution and deployment:"
   ]
  },
  {
   "cell_type": "code",
   "execution_count": 12,
   "metadata": {},
   "outputs": [
    {
     "name": "stdout",
     "output_type": "stream",
     "text": [
      "[2021-08-01 15:13:19,496] INFO - BentoService bundle 'IrisClassifier:20210801151318_529D00' saved to: /Users/bear/bentoml/repository/IrisClassifier/20210801151318_529D00\n"
     ]
    }
   ],
   "source": [
    "# import the IrisClassifier class defined above\n",
    "from bento_service import IrisClassifier\n",
    "\n",
    "# Create a iris classifier service instance\n",
    "iris_classifier_service = IrisClassifier()\n",
    "\n",
    "# Pack the newly trained model artifact\n",
    "iris_classifier_service.pack('model', clf)\n",
    "# Save the prediction service to disk for model serving\n",
    "saved_path = iris_classifier_service.save()"
   ]
  },
  {
   "cell_type": "code",
   "execution_count": 13,
   "metadata": {},
   "outputs": [
    {
     "data": {
      "text/html": [
       "<div>\n",
       "<style scoped>\n",
       "    .dataframe tbody tr th:only-of-type {\n",
       "        vertical-align: middle;\n",
       "    }\n",
       "\n",
       "    .dataframe tbody tr th {\n",
       "        vertical-align: top;\n",
       "    }\n",
       "\n",
       "    .dataframe thead th {\n",
       "        text-align: right;\n",
       "    }\n",
       "</style>\n",
       "<table border=\"1\" class=\"dataframe\">\n",
       "  <thead>\n",
       "    <tr style=\"text-align: right;\">\n",
       "      <th></th>\n",
       "      <th>0</th>\n",
       "      <th>1</th>\n",
       "      <th>2</th>\n",
       "      <th>3</th>\n",
       "    </tr>\n",
       "  </thead>\n",
       "  <tbody>\n",
       "    <tr>\n",
       "      <th>81</th>\n",
       "      <td>5.5</td>\n",
       "      <td>2.4</td>\n",
       "      <td>3.7</td>\n",
       "      <td>1.0</td>\n",
       "    </tr>\n",
       "    <tr>\n",
       "      <th>85</th>\n",
       "      <td>6.0</td>\n",
       "      <td>3.4</td>\n",
       "      <td>4.5</td>\n",
       "      <td>1.6</td>\n",
       "    </tr>\n",
       "    <tr>\n",
       "      <th>48</th>\n",
       "      <td>5.3</td>\n",
       "      <td>3.7</td>\n",
       "      <td>1.5</td>\n",
       "      <td>0.2</td>\n",
       "    </tr>\n",
       "    <tr>\n",
       "      <th>95</th>\n",
       "      <td>5.7</td>\n",
       "      <td>3.0</td>\n",
       "      <td>4.2</td>\n",
       "      <td>1.2</td>\n",
       "    </tr>\n",
       "    <tr>\n",
       "      <th>128</th>\n",
       "      <td>6.4</td>\n",
       "      <td>2.8</td>\n",
       "      <td>5.6</td>\n",
       "      <td>2.1</td>\n",
       "    </tr>\n",
       "  </tbody>\n",
       "</table>\n",
       "</div>"
      ],
      "text/plain": [
       "       0    1    2    3\n",
       "81   5.5  2.4  3.7  1.0\n",
       "85   6.0  3.4  4.5  1.6\n",
       "48   5.3  3.7  1.5  0.2\n",
       "95   5.7  3.0  4.2  1.2\n",
       "128  6.4  2.8  5.6  2.1"
      ]
     },
     "execution_count": 13,
     "metadata": {},
     "output_type": "execute_result"
    }
   ],
   "source": [
    "# Prepare input data for testing the prediction service\n",
    "import pandas as pd\n",
    "test_input_df = pd.DataFrame(X).sample(n=5)\n",
    "test_input_df.to_csv(\"./test_input.csv\", index=False)\n",
    "test_input_df"
   ]
  },
  {
   "cell_type": "code",
   "execution_count": 14,
   "metadata": {},
   "outputs": [
    {
     "data": {
      "text/plain": [
       "array([1, 1, 0, 1, 2])"
      ]
     },
     "execution_count": 14,
     "metadata": {},
     "output_type": "execute_result"
    }
   ],
   "source": [
    "# Test the service's inference API python interface\n",
    "iris_classifier_service.predict(test_input_df)"
   ]
  },
  {
   "cell_type": "code",
   "execution_count": null,
   "metadata": {},
   "outputs": [],
   "source": [
    "# Start a dev model server to test out everything\n",
    "#iris_classifier_service.stop_dev_server()\n",
    "# iris_classifier_service.start_dev_server()"
   ]
  },
  {
   "cell_type": "code",
   "execution_count": null,
   "metadata": {},
   "outputs": [],
   "source": [
    "import requests\n",
    "response = requests.post(\n",
    "    \"http://127.0.0.1:5000/predict\",\n",
    "    json=test_input_df.values.tolist()\n",
    ")\n",
    "print(response.text)"
   ]
  },
  {
   "cell_type": "code",
   "execution_count": null,
   "metadata": {},
   "outputs": [],
   "source": [
    "# Stop the dev model server\n",
    "#iris_classifier_service.stop_dev_server()"
   ]
  },
  {
   "cell_type": "code",
   "execution_count": null,
   "metadata": {},
   "outputs": [],
   "source": [
    "# Save the prediction service to disk for deployment\n",
    "saved_path = iris_classifier_service.save()"
   ]
  },
  {
   "cell_type": "markdown",
   "metadata": {},
   "source": [
    "BentoML stores all packaged model files under the\n",
    "`~/bentoml/{service_name}/{service_version}` directory by default.\n",
    "The BentoML file format contains all the code, files, and configs required to \n",
    "deploy the model for serving.\n"
   ]
  },
  {
   "cell_type": "markdown",
   "metadata": {},
   "source": [
    "## REST API Model Serving\n",
    "\n",
    "\n",
    "\n",
    "To start a REST API model server with the `IrisClassifier` saved above, use \n",
    "the `bentoml serve` command:"
   ]
  },
  {
   "cell_type": "code",
   "execution_count": null,
   "metadata": {},
   "outputs": [
    {
     "name": "stdout",
     "output_type": "stream",
     "text": [
      "[2021-08-01 15:13:47,292] INFO - Getting latest version IrisClassifier:20210801151318_529D00\n",
      "[2021-08-01 15:13:47,306] INFO - Starting BentoML API proxy in development mode..\n",
      "[2021-08-01 15:13:47,732] INFO - Starting BentoML API server in development mode..\n",
      " * Serving Flask app 'IrisClassifier' (lazy loading)\n",
      " * Environment: production\n",
      "\u001b[31m   WARNING: This is a development server. Do not use it in a production deployment.\u001b[0m\n",
      "\u001b[2m   Use a production WSGI server instead.\u001b[0m\n",
      " * Debug mode: off\n",
      " * Running on http://127.0.0.1:57801/ (Press CTRL+C to quit)\n",
      "[2021-08-01 15:13:50,757] INFO - Micro batch enabled for API `predict` max-latency: 20000 max-batch-size 4000\n",
      "[2021-08-01 15:13:50,757] INFO - Your system nofile limit is 4096, which means each instance of microbatch service is able to hold this number of connections at same time. You can increase the number of file descriptors for the server process, or launch more microbatch instances to accept more concurrent connection.\n",
      "======== Running on http://0.0.0.0:5000 ========\n",
      "(Press CTRL+C to quit)\n",
      "127.0.0.1 - - [01/Aug/2021 15:13:55] \"GET / HTTP/1.1\" 200 -\n",
      "127.0.0.1 - - [01/Aug/2021 15:13:55] \"GET /static_content/main.css HTTP/1.1\" 200 -\n",
      "127.0.0.1 - - [01/Aug/2021 15:13:55] \"GET /static_content/readme.css HTTP/1.1\" 200 -\n",
      "127.0.0.1 - - [01/Aug/2021 15:13:55] \"GET /static_content/swagger-ui.css HTTP/1.1\" 200 -\n",
      "127.0.0.1 - - [01/Aug/2021 15:13:55] \"GET /static_content/swagger-ui-bundle.js HTTP/1.1\" 200 -\n",
      "127.0.0.1 - - [01/Aug/2021 15:13:55] \"GET /static_content/marked.min.js HTTP/1.1\" 200 -\n",
      "127.0.0.1 - - [01/Aug/2021 15:13:55] \"GET /docs.json HTTP/1.1\" 200 -\n",
      "127.0.0.1 - - [01/Aug/2021 15:13:56] \"\u001b[33mGET /favicon.ico HTTP/1.1\u001b[0m\" 404 -\n",
      "127.0.0.1 - - [01/Aug/2021 15:14:05] \"GET /healthz HTTP/1.1\" 200 -\n",
      "127.0.0.1 - - [01/Aug/2021 15:19:43] \"GET /docs.json HTTP/1.1\" 200 -\n",
      "[2021-08-01 15:36:29,025] INFO - {'service_name': 'IrisClassifier', 'service_version': '20210801151318_529D00', 'api': 'predict', 'task': {'data': '[[6.3, 2.5, 4.9, 1.5], [6.7, 3.3, 5.7, 2.5], [6.1, 2.8, 4.7, 1.2], [4.8, 3.0, 1.4, 0.3], [6.3, 2.5, 5.0, 1.9]]', 'task_id': 'ce20028a-bad1-4d5e-9e97-e3927f6a9ee5', 'batch': 5, 'http_headers': (('Host', '127.0.0.1:5000'), ('User-Agent', 'python-requests/2.24.0'), ('Accept-Encoding', 'gzip, deflate'), ('Accept', '*/*'), ('Connection', 'keep-alive'), ('Content-Length', '110'), ('Content-Type', 'application/json'))}, 'result': {'data': '[1, 2, 1, 0, 2]', 'http_status': 200, 'http_headers': (('Content-Type', 'application/json'),)}, 'request_id': 'ce20028a-bad1-4d5e-9e97-e3927f6a9ee5'}\n",
      "127.0.0.1 - - [01/Aug/2021 15:36:29] \"POST /predict HTTP/1.1\" 200 -\n",
      "[2021-08-01 16:01:31,490] INFO - {'service_name': 'IrisClassifier', 'service_version': '20210801151318_529D00', 'api': 'predict', 'task': {'data': '[[6.3, 2.5, 4.9, 1.5], [6.7, 3.3, 5.7, 2.5], [6.1, 2.8, 4.7, 1.2], [4.8, 3.0, 1.4, 0.3], [6.3, 2.5, 5.0, 1.9]]', 'task_id': 'cce44d1e-1bb4-4867-85c5-582312247fd7', 'batch': 5, 'http_headers': (('Host', '127.0.0.1:5000'), ('User-Agent', 'python-requests/2.24.0'), ('Accept-Encoding', 'gzip, deflate'), ('Accept', '*/*'), ('Connection', 'keep-alive'), ('Content-Length', '110'), ('Content-Type', 'application/json'))}, 'result': {'data': '[1, 2, 1, 0, 2]', 'http_status': 200, 'http_headers': (('Content-Type', 'application/json'),)}, 'request_id': 'cce44d1e-1bb4-4867-85c5-582312247fd7'}\n",
      "127.0.0.1 - - [01/Aug/2021 16:01:31] \"POST /predict HTTP/1.1\" 200 -\n",
      "127.0.0.1 - - [01/Aug/2021 20:28:14] \"GET / HTTP/1.1\" 200 -\n",
      "127.0.0.1 - - [01/Aug/2021 20:28:14] \"\u001b[36mGET /static_content/main.css HTTP/1.1\u001b[0m\" 304 -\n",
      "127.0.0.1 - - [01/Aug/2021 20:28:14] \"\u001b[36mGET /static_content/readme.css HTTP/1.1\u001b[0m\" 304 -\n",
      "127.0.0.1 - - [01/Aug/2021 20:28:14] \"\u001b[36mGET /static_content/swagger-ui.css HTTP/1.1\u001b[0m\" 304 -\n",
      "127.0.0.1 - - [01/Aug/2021 20:28:14] \"\u001b[36mGET /static_content/marked.min.js HTTP/1.1\u001b[0m\" 304 -\n",
      "127.0.0.1 - - [01/Aug/2021 20:28:14] \"\u001b[36mGET /static_content/swagger-ui-bundle.js HTTP/1.1\u001b[0m\" 304 -\n",
      "127.0.0.1 - - [01/Aug/2021 20:28:15] \"GET /docs.json HTTP/1.1\" 200 -\n",
      "127.0.0.1 - - [01/Aug/2021 20:39:45] \"GET / HTTP/1.1\" 200 -\n",
      "127.0.0.1 - - [01/Aug/2021 20:39:45] \"\u001b[36mGET /static_content/main.css HTTP/1.1\u001b[0m\" 304 -\n",
      "127.0.0.1 - - [01/Aug/2021 20:39:45] \"\u001b[36mGET /static_content/swagger-ui.css HTTP/1.1\u001b[0m\" 304 -\n",
      "127.0.0.1 - - [01/Aug/2021 20:39:45] \"\u001b[36mGET /static_content/readme.css HTTP/1.1\u001b[0m\" 304 -\n",
      "127.0.0.1 - - [01/Aug/2021 20:39:46] \"\u001b[36mGET /static_content/swagger-ui-bundle.js HTTP/1.1\u001b[0m\" 304 -\n",
      "127.0.0.1 - - [01/Aug/2021 20:39:46] \"\u001b[36mGET /static_content/marked.min.js HTTP/1.1\u001b[0m\" 304 -\n",
      "127.0.0.1 - - [01/Aug/2021 20:39:46] \"GET /docs.json HTTP/1.1\" 200 -\n",
      "[2021-08-01 20:39:53,918] INFO - {'service_name': 'IrisClassifier', 'service_version': '20210801151318_529D00', 'api': 'predict', 'task': {'data': '[[6.3, 2.5, 4.9, 1.5], [6.7, 3.3, 5.7, 2.5], [6.1, 2.8, 4.7, 1.2], [4.8, 3.0, 1.4, 0.3], [6.3, 2.5, 5.0, 1.9]]', 'task_id': '1cad0994-d518-4d6c-881e-c9666b8adaf6', 'batch': 5, 'http_headers': (('Host', '127.0.0.1:5000'), ('User-Agent', 'python-requests/2.24.0'), ('Accept-Encoding', 'gzip, deflate'), ('Accept', '*/*'), ('Connection', 'keep-alive'), ('Content-Length', '110'), ('Content-Type', 'application/json'))}, 'result': {'data': '[1, 2, 1, 0, 2]', 'http_status': 200, 'http_headers': (('Content-Type', 'application/json'),)}, 'request_id': '1cad0994-d518-4d6c-881e-c9666b8adaf6'}\n",
      "127.0.0.1 - - [01/Aug/2021 20:39:53] \"POST /predict HTTP/1.1\" 200 -\n",
      "[2021-08-01 20:39:56,136] INFO - {'service_name': 'IrisClassifier', 'service_version': '20210801151318_529D00', 'api': 'predict', 'task': {'data': '[[6.3, 2.5, 4.9, 1.5], [6.7, 3.3, 5.7, 2.5], [6.1, 2.8, 4.7, 1.2], [4.8, 3.0, 1.4, 0.3], [6.3, 2.5, 5.0, 1.9]]', 'task_id': 'e1a5ae48-1c7c-4081-963a-5ab30aadec01', 'batch': 5, 'http_headers': (('Host', '127.0.0.1:5000'), ('User-Agent', 'python-requests/2.24.0'), ('Accept-Encoding', 'gzip, deflate'), ('Accept', '*/*'), ('Connection', 'keep-alive'), ('Content-Length', '110'), ('Content-Type', 'application/json'))}, 'result': {'data': '[1, 2, 1, 0, 2]', 'http_status': 200, 'http_headers': (('Content-Type', 'application/json'),)}, 'request_id': 'e1a5ae48-1c7c-4081-963a-5ab30aadec01'}\n",
      "127.0.0.1 - - [01/Aug/2021 20:39:56] \"POST /predict HTTP/1.1\" 200 -\n",
      "[2021-08-01 20:40:00,517] INFO - {'service_name': 'IrisClassifier', 'service_version': '20210801151318_529D00', 'api': 'predict', 'task': {'data': '[[6.3, 2.5, 4.9, 1.5], [6.7, 3.3, 5.7, 2.5], [6.1, 2.8, 4.7, 1.2], [4.8, 3.0, 1.4, 0.3], [6.3, 2.5, 5.0, 1.9]]', 'task_id': '803ea141-d8e1-4262-9346-9876530a1979', 'batch': 5, 'http_headers': (('Host', '127.0.0.1:5000'), ('User-Agent', 'python-requests/2.24.0'), ('Accept-Encoding', 'gzip, deflate'), ('Accept', '*/*'), ('Connection', 'keep-alive'), ('Content-Length', '110'), ('Content-Type', 'application/json'))}, 'result': {'data': '[1, 2, 1, 0, 2]', 'http_status': 200, 'http_headers': (('Content-Type', 'application/json'),)}, 'request_id': '803ea141-d8e1-4262-9346-9876530a1979'}\n",
      "127.0.0.1 - - [01/Aug/2021 20:40:00] \"POST /predict HTTP/1.1\" 200 -\n"
     ]
    }
   ],
   "source": [
    "!bentoml serve IrisClassifier:latest"
   ]
  },
  {
   "cell_type": "markdown",
   "metadata": {},
   "source": [
    "If you are running this notebook from Google Colab, you can start the dev server with `--run-with-ngrok` option, to gain acccess to the API endpoint via a public endpoint managed by [ngrok](https://ngrok.com/): "
   ]
  },
  {
   "cell_type": "code",
   "execution_count": 9,
   "metadata": {
    "scrolled": true
   },
   "outputs": [
    {
     "name": "stdout",
     "output_type": "stream",
     "text": [
      "Error: \u001b[31mbentoml-cli serve failed: BentoService IrisClassifier:latest not found - NOT_FOUND:BentoService `IrisClassifier:latest` is not found\u001b[0m\n"
     ]
    }
   ],
   "source": [
    "!bentoml serve IrisClassifier:latest --run-with-ngrok"
   ]
  },
  {
   "cell_type": "markdown",
   "metadata": {},
   "source": [
    "The `IrisClassifier` model is now served at `localhost:5000`. Use `curl` command to send\n",
    "a prediction request:\n",
    "\n",
    "```bash\n",
    "curl -i \\\n",
    "--header \"Content-Type: application/json\" \\\n",
    "--request POST \\\n",
    "--data '[[5.1, 3.5, 1.4, 0.2]]' \\\n",
    "localhost:5000/predict\n",
    "```\n",
    "\n",
    "Or with `python` and [request library](https://requests.readthedocs.io/):\n",
    "```python\n",
    "import requests\n",
    "response = requests.post(\"http://127.0.0.1:5000/predict\", json=[[5.1, 3.5, 1.4, 0.2]])\n",
    "print(response.text)\n",
    "```\n",
    "\n",
    "Note that BentoML API server automatically converts the Dataframe JSON format into a\n",
    "`pandas.DataFrame` object before sending it to the user-defined inference API function.\n",
    "\n",
    "The BentoML API server also provides a simple web UI dashboard.\n",
    "Go to http://localhost:5000 in the browser and use the Web UI to send\n",
    "prediction request:\n",
    "\n",
    "![BentoML API Server Web UI Screenshot](https://raw.githubusercontent.com/bentoml/BentoML/master/guides/quick-start/bento-api-server-web-ui.png)"
   ]
  },
  {
   "cell_type": "markdown",
   "metadata": {},
   "source": [
    "## Containerize model server with Docker\n",
    "\n",
    "\n",
    "\n",
    "One common way of distributing this model API server for production deployment, is via\n",
    "Docker containers. And BentoML provides a convenient way to do that.\n",
    "\n",
    "Note that `docker` is __not available in Google Colab__. You will need to download and run this notebook locally to try out this containerization with docker feature.\n",
    "\n",
    "If you already have docker configured, simply run the follow command to product a \n",
    "docker container serving the `IrisClassifier` prediction service created above:"
   ]
  },
  {
   "cell_type": "code",
   "execution_count": null,
   "metadata": {},
   "outputs": [],
   "source": [
    "!bentoml containerize IrisClassifier:latest -t iris-classifier:v1"
   ]
  },
  {
   "cell_type": "markdown",
   "metadata": {},
   "source": [
    "Start a container with the docker image built in the previous step:"
   ]
  },
  {
   "cell_type": "code",
   "execution_count": null,
   "metadata": {},
   "outputs": [],
   "source": [
    "!docker run -p 5000:5000 iris-classifier:v1 --workers=2"
   ]
  },
  {
   "cell_type": "markdown",
   "metadata": {},
   "source": [
    "This made it possible to deploy BentoML bundled ML models with platforms such as\n",
    "[Kubeflow](https://www.kubeflow.org/docs/components/serving/bentoml/),\n",
    "[Knative](https://knative.dev/community/samples/serving/machinelearning-python-bentoml/),\n",
    "[Kubernetes](https://docs.bentoml.org/en/latest/deployment/kubernetes.html), which\n",
    "provides advanced model deployment features such as auto-scaling, A/B testing,\n",
    "scale-to-zero, canary rollout and multi-armed bandit.\n",
    "\n",
    "\n",
    "## Load saved BentoService\n",
    "\n",
    "`bentoml.load` is the API for loading a BentoML packaged model in python:"
   ]
  },
  {
   "cell_type": "code",
   "execution_count": 10,
   "metadata": {},
   "outputs": [
    {
     "ename": "NameError",
     "evalue": "name 'saved_path' is not defined",
     "output_type": "error",
     "traceback": [
      "\u001b[0;31m---------------------------------------------------------------------------\u001b[0m",
      "\u001b[0;31mNameError\u001b[0m                                 Traceback (most recent call last)",
      "\u001b[0;32m/var/folders/28/s1rplvdn31774j3z5m_s_8cw0000gn/T/ipykernel_28218/863906125.py\u001b[0m in \u001b[0;36m<module>\u001b[0;34m\u001b[0m\n\u001b[1;32m      2\u001b[0m \u001b[0;32mimport\u001b[0m \u001b[0mpandas\u001b[0m \u001b[0;32mas\u001b[0m \u001b[0mpd\u001b[0m\u001b[0;34m\u001b[0m\u001b[0;34m\u001b[0m\u001b[0m\n\u001b[1;32m      3\u001b[0m \u001b[0;34m\u001b[0m\u001b[0m\n\u001b[0;32m----> 4\u001b[0;31m \u001b[0mbento_svc\u001b[0m \u001b[0;34m=\u001b[0m \u001b[0mbentoml\u001b[0m\u001b[0;34m.\u001b[0m\u001b[0mload\u001b[0m\u001b[0;34m(\u001b[0m\u001b[0msaved_path\u001b[0m\u001b[0;34m)\u001b[0m\u001b[0;34m\u001b[0m\u001b[0;34m\u001b[0m\u001b[0m\n\u001b[0m\u001b[1;32m      5\u001b[0m \u001b[0;34m\u001b[0m\u001b[0m\n\u001b[1;32m      6\u001b[0m \u001b[0;31m# Test loaded bentoml service:\u001b[0m\u001b[0;34m\u001b[0m\u001b[0;34m\u001b[0m\u001b[0;34m\u001b[0m\u001b[0m\n",
      "\u001b[0;31mNameError\u001b[0m: name 'saved_path' is not defined"
     ]
    }
   ],
   "source": [
    "import bentoml\n",
    "import pandas as pd\n",
    "\n",
    "bento_svc = bentoml.load(saved_path)\n",
    "\n",
    "# Test loaded bentoml service:\n",
    "bento_svc.predict(test_input_df)"
   ]
  },
  {
   "cell_type": "markdown",
   "metadata": {},
   "source": [
    "The BentoML format is pip-installable and can be directly distributed as a\n",
    "PyPI package for using in python applications:"
   ]
  },
  {
   "cell_type": "code",
   "execution_count": null,
   "metadata": {},
   "outputs": [],
   "source": [
    "!pip install -q {saved_path}"
   ]
  },
  {
   "cell_type": "code",
   "execution_count": null,
   "metadata": {},
   "outputs": [],
   "source": [
    "# The BentoService class name will become packaged name\n",
    "import IrisClassifier\n",
    "\n",
    "installed_svc = IrisClassifier.load()\n",
    "installed_svc.predict(test_input_df)"
   ]
  },
  {
   "cell_type": "markdown",
   "metadata": {},
   "source": [
    "This also allow users to upload their BentoService to pypi.org as public python package\n",
    "or to their organization's private PyPi index to share with other developers.\n",
    "\n",
    "`cd {saved_path} & python setup.py sdist upload`\n",
    "\n",
    "*You will have to configure \".pypirc\" file before uploading to pypi index.\n",
    "    You can find more information about distributing python package at:\n",
    "    https://docs.python.org/3.7/distributing/index.html#distributing-index*\n",
    "\n",
    "\n",
    "# Launch inference job from CLI"
   ]
  },
  {
   "cell_type": "markdown",
   "metadata": {},
   "source": [
    "BentoML cli supports loading and running a packaged model from CLI. With the `DataframeInput` adapter, the CLI command supports reading input Dataframe data from CLI argument or local `csv` or `json` files:"
   ]
  },
  {
   "cell_type": "code",
   "execution_count": 11,
   "metadata": {},
   "outputs": [
    {
     "name": "stdout",
     "output_type": "stream",
     "text": [
      "Error: \u001b[31mbentoml-cli run failed: BentoService IrisClassifier:latest not found - NOT_FOUND:BentoService `IrisClassifier:latest` is not found\u001b[0m\n"
     ]
    }
   ],
   "source": [
    "!bentoml run IrisClassifier:latest predict --input '{test_input_df.to_json()}' --quiet"
   ]
  },
  {
   "cell_type": "code",
   "execution_count": null,
   "metadata": {},
   "outputs": [],
   "source": [
    "!bentoml run IrisClassifier:latest predict \\\n",
    "    --input-file \"./test_input.csv\" --format \"csv\" --quiet"
   ]
  },
  {
   "cell_type": "code",
   "execution_count": null,
   "metadata": {},
   "outputs": [],
   "source": [
    "# run inference with the docker image built above\n",
    "!docker run -v $(PWD):/tmp iris-classifier:v1 \\\n",
    "        bentoml run /bento predict --input-file \"/tmp/test_input.csv\" --format \"csv\" --quiet"
   ]
  },
  {
   "cell_type": "markdown",
   "metadata": {},
   "source": [
    "# Deployment Options\n",
    "\n",
    "Check out the [BentoML deployment guide](https://docs.bentoml.org/en/latest/deployment/index.html)\n",
    "to better understand which deployment option is best suited for your use case.\n",
    "\n",
    "* One-click deployment with BentoML:\n",
    "  - [AWS Lambda](https://docs.bentoml.org/en/latest/deployment/aws_lambda.html)\n",
    "  - [AWS SageMaker](https://docs.bentoml.org/en/latest/deployment/aws_sagemaker.html)\n",
    "  - [AWS EC2](https://docs.bentoml.org/en/latest/deployment/aws_ec2.html)\n",
    "  - [Azure Functions](https://docs.bentoml.org/en/latest/deployment/azure_functions.html)\n",
    "\n",
    "* Deploy with open-source platforms:\n",
    "  - [Docker](https://docs.bentoml.org/en/latest/deployment/docker.html)\n",
    "  - [Kubernetes](https://docs.bentoml.org/en/latest/deployment/kubernetes.html)\n",
    "  - [Knative](https://docs.bentoml.org/en/latest/deployment/knative.html)\n",
    "  - [Kubeflow](https://docs.bentoml.org/en/latest/deployment/kubeflow.html)\n",
    "  - [KFServing](https://docs.bentoml.org/en/latest/deployment/kfserving.html)\n",
    "  - [Clipper](https://docs.bentoml.org/en/latest/deployment/clipper.html)\n",
    "\n",
    "* Manual cloud deployment guides:\n",
    "  - [AWS ECS](https://docs.bentoml.org/en/latest/deployment/aws_ecs.html)\n",
    "  - [Google Cloud Run](https://docs.bentoml.org/en/latest/deployment/google_cloud_run.html)\n",
    "  - [Azure container instance](https://docs.bentoml.org/en/latest/deployment/azure_container_instance.html)\n",
    "  - [Heroku](https://docs.bentoml.org/en/latest/deployment/heroku.html)\n",
    "\n"
   ]
  },
  {
   "cell_type": "markdown",
   "metadata": {},
   "source": [
    "# Summary\n",
    "\n",
    "This is what it looks like when using BentoML to serve and deploy a model in the cloud. BentoML also supports [many other Machine Learning frameworks](https://docs.bentoml.org/en/latest/examples.html) besides Scikit-learn. The [BentoML core concepts](https://docs.bentoml.org/en/latest/concepts.html) doc is recommended for anyone looking to get a deeper understanding of BentoML.\n",
    "\n",
    "Join the [BentoML Slack](https://join.slack.com/t/bentoml/shared_invite/enQtNjcyMTY3MjE4NTgzLTU3ZDc1MWM5MzQxMWQxMzJiNTc1MTJmMzYzMTYwMjQ0OGEwNDFmZDkzYWQxNzgxYWNhNjAxZjk4MzI4OGY1Yjg) to follow the latest development updates and roadmap discussions."
   ]
  }
 ],
 "metadata": {
  "kernelspec": {
   "display_name": "Python38",
   "language": "python",
   "name": "python38"
  },
  "language_info": {
   "codemirror_mode": {
    "name": "ipython",
    "version": 3
   },
   "file_extension": ".py",
   "mimetype": "text/x-python",
   "name": "python",
   "nbconvert_exporter": "python",
   "pygments_lexer": "ipython3",
   "version": "3.8.5"
  }
 },
 "nbformat": 4,
 "nbformat_minor": 4
}
